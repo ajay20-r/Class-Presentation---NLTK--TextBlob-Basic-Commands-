{
 "cells": [
  {
   "cell_type": "markdown",
   "id": "69edc337",
   "metadata": {},
   "source": [
    "### Importing nltk (Natural Languag ToolKit) Package"
   ]
  },
  {
   "cell_type": "code",
   "execution_count": 3,
   "id": "8c673973",
   "metadata": {},
   "outputs": [],
   "source": [
    "import nltk"
   ]
  },
  {
   "cell_type": "code",
   "execution_count": 4,
   "id": "a72681ec",
   "metadata": {},
   "outputs": [
    {
     "name": "stdout",
     "output_type": "stream",
     "text": [
      "Collecting textblob\n",
      "  Downloading textblob-0.17.1-py2.py3-none-any.whl (636 kB)\n",
      "Requirement already satisfied: nltk>=3.1 in c:\\users\\iamaj\\anaconda3\\lib\\site-packages (from textblob) (3.6.5)\n",
      "Requirement already satisfied: click in c:\\users\\iamaj\\anaconda3\\lib\\site-packages (from nltk>=3.1->textblob) (8.0.3)\n",
      "Requirement already satisfied: joblib in c:\\users\\iamaj\\anaconda3\\lib\\site-packages (from nltk>=3.1->textblob) (1.1.0)\n",
      "Requirement already satisfied: regex>=2021.8.3 in c:\\users\\iamaj\\anaconda3\\lib\\site-packages (from nltk>=3.1->textblob) (2021.8.3)\n",
      "Requirement already satisfied: tqdm in c:\\users\\iamaj\\anaconda3\\lib\\site-packages (from nltk>=3.1->textblob) (4.62.3)\n",
      "Requirement already satisfied: colorama in c:\\users\\iamaj\\anaconda3\\lib\\site-packages (from click->nltk>=3.1->textblob) (0.4.4)\n",
      "Installing collected packages: textblob\n",
      "Successfully installed textblob-0.17.1\n"
     ]
    }
   ],
   "source": [
    "!pip install textblob #Now we are installing textblob package"
   ]
  },
  {
   "cell_type": "markdown",
   "id": "27d24712",
   "metadata": {},
   "source": [
    "### Importing TextBlob library from textblob package"
   ]
  },
  {
   "cell_type": "code",
   "execution_count": 5,
   "id": "b4abe238",
   "metadata": {},
   "outputs": [],
   "source": [
    "from textblob import TextBlob "
   ]
  },
  {
   "cell_type": "code",
   "execution_count": 25,
   "id": "d8d4bca5",
   "metadata": {},
   "outputs": [],
   "source": [
    "x='Sharing personal details on facebook is Good.'\n",
    "y='I hate Facebook.'\n",
    "objx= TextBlob(x); # Creating a TextBlob object for varibale X\n",
    "objy=TextBlob(y); # Creating a TextBlob object for variable y\n",
    "\n"
   ]
  },
  {
   "cell_type": "markdown",
   "id": "1964373d",
   "metadata": {},
   "source": [
    "### Polarity and Subjectivity of X"
   ]
  },
  {
   "cell_type": "code",
   "execution_count": 26,
   "id": "b8008c49",
   "metadata": {},
   "outputs": [
    {
     "name": "stdout",
     "output_type": "stream",
     "text": [
      "Polarity of X 0.35\n",
      "Subjectivity of X 0.45000000000000007\n"
     ]
    }
   ],
   "source": [
    "sentiment_x=objx.sentiment.polarity; # Polarity lies between -1 & +1, where -1 refers to negative sentiment and +1 refers to positive sentiment.\n",
    "subjectivity_x=objx.sentiment.subjectivity; #Subjectivity quantifies the amount of personal opinion and factual information contained in the text.\n",
    "print('Polarity of X',sentiment_x);\n",
    "print('Subjectivity of X',subjectivity_x);\n"
   ]
  },
  {
   "cell_type": "markdown",
   "id": "fee924f9",
   "metadata": {},
   "source": [
    "### Polarity and Subjectivity of Y"
   ]
  },
  {
   "cell_type": "code",
   "execution_count": 27,
   "id": "58b52631",
   "metadata": {},
   "outputs": [
    {
     "name": "stdout",
     "output_type": "stream",
     "text": [
      "Polarity of Y -0.8\n",
      "Subjectivity of y 0.9\n"
     ]
    }
   ],
   "source": [
    "sentiment_y=objy.sentiment.polarity; # Polarity lies between -1 & +1, where -1 refers to negative sentiment and +1 refers to positive sentiment.\n",
    "subjectivity_y=objy.sentiment.subjectivity; #Subjectivity quantifies the amount of personal opinion and factual information contained in the text.\n",
    "print('Polarity of Y',sentiment_y);\n",
    "print('Subjectivity of y',subjectivity_y);"
   ]
  },
  {
   "cell_type": "code",
   "execution_count": null,
   "id": "3d16ec7a",
   "metadata": {},
   "outputs": [],
   "source": []
  }
 ],
 "metadata": {
  "kernelspec": {
   "display_name": "Python 3 (ipykernel)",
   "language": "python",
   "name": "python3"
  },
  "language_info": {
   "codemirror_mode": {
    "name": "ipython",
    "version": 3
   },
   "file_extension": ".py",
   "mimetype": "text/x-python",
   "name": "python",
   "nbconvert_exporter": "python",
   "pygments_lexer": "ipython3",
   "version": "3.9.7"
  }
 },
 "nbformat": 4,
 "nbformat_minor": 5
}
